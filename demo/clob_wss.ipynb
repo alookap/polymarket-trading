{
 "cells": [
  {
   "cell_type": "code",
   "execution_count": null,
   "metadata": {},
   "outputs": [],
   "source": [
    "import asyncio\n",
    "import websockets\n",
    "import json\n",
    "\n",
    "api_key = \"YOUR_API_KEY\"\n",
    "\n",
    "async def fetch_data():\n",
    "    url = f\"wss://polygon-mainnet.g.alchemy.com/v2/{api_key}\"\n",
    "    async with websockets.connect(url) as websocket:\n",
    "        payload = {\n",
    "            \"jsonrpc\": \"2.0\",\n",
    "            \"method\": \"eth_subscribe\",\n",
    "            \"params\": [\"newHeads\"],\n",
    "            \"id\": 1\n",
    "        }\n",
    "        await websocket.send(json.dumps(payload))\n",
    "        \n",
    "        while True:\n",
    "            response = await websocket.recv()\n",
    "            print(response)\n",
    "\n",
    "# 运行\n",
    "await fetch_data()"
   ]
  },
  {
   "cell_type": "code",
   "execution_count": null,
   "metadata": {},
   "outputs": [],
   "source": []
  }
 ],
 "metadata": {
  "kernelspec": {
   "display_name": "notebook",
   "language": "python",
   "name": "python3"
  },
  "language_info": {
   "codemirror_mode": {
    "name": "ipython",
    "version": 3
   },
   "file_extension": ".py",
   "mimetype": "text/x-python",
   "name": "python",
   "nbconvert_exporter": "python",
   "pygments_lexer": "ipython3",
   "version": "3.12.3"
  }
 },
 "nbformat": 4,
 "nbformat_minor": 2
}
