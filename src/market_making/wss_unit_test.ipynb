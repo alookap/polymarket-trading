{
 "cells": [
  {
   "cell_type": "markdown",
   "metadata": {},
   "source": [
    "### Test for websockets_manager"
   ]
  },
  {
   "cell_type": "code",
   "execution_count": 1,
   "metadata": {},
   "outputs": [],
   "source": [
    "import asyncio\n",
    "import json\n",
    "import logging\n",
    "import websockets\n",
    "# from custom_types import PriceLevel\n",
    "from typing import List, Dict, Any, Optional\n",
    "from websockets_manager import WebsocketManager\n",
    "from orderbook import OrderBook\n",
    "\n",
    "logger = logging.getLogger(__name__)"
   ]
  },
  {
   "cell_type": "code",
   "execution_count": 2,
   "metadata": {},
   "outputs": [],
   "source": [
    "import os\n",
    "from dotenv import load_dotenv\n",
    "load_dotenv()\n",
    "\n",
    "API_KEY = os.getenv(\"CLOB_API_KEY\")\n",
    "API_SECRET = os.getenv(\"CLOB_SECRET\")\n",
    "API_PASSPHRASE = os.getenv(\"CLOB_PASS_PHRASE\")\n",
    "AGENCY_ADDRESS = os.getenv(\"AGENCY_ADDRESS\")\n",
    "\n",
    "YES_ID = \"46171502957028595838694604499378583099478369877679255114043087599679007467964\"\n",
    "NO_ID = \"21457067342029925682172110629429793886827168158271370485467219837949936707498\"\n",
    "CONDITION_ID = \"0x07ab34a38692464baf22c7e859550712bb2093fe005b24c58a0717f6e9595e55\"\n",
    "\n",
    "MARKET_WSS_ENDPOINT = \"wss://ws-subscriptions-clob.polymarket.com/ws/market\"\n",
    "USER_WSS_ENDPOINT = \"wss://ws-subscriptions-clob.polymarket.com/ws/user\""
   ]
  },
  {
   "cell_type": "code",
   "execution_count": 3,
   "metadata": {},
   "outputs": [],
   "source": [
    "book = OrderBook(CONDITION_ID, YES_ID, NO_ID)"
   ]
  },
  {
   "cell_type": "code",
   "execution_count": 4,
   "metadata": {},
   "outputs": [],
   "source": [
    "# the closure\n",
    "def create_market_handler(order_book: OrderBook, yes_id: str = YES_ID):\n",
    "    async def handler(data):\n",
    "        for item in data:\n",
    "            if item.get('asset_id') == yes_id:\n",
    "                if item.get('event_type') == 'book':\n",
    "                    order_book.update_book(item.get('bids'), item.get('asks'))\n",
    "                elif item.get('event_type') == 'price_change':\n",
    "                    order_book.handle_price_change(item.get('changes'))\n",
    "    return handler\n",
    "\n",
    "    # print(f\"Market data received: {data}\")\n",
    "\n",
    "async def example_user_handler(data):\n",
    "    print(f\"User data received: {data}\")"
   ]
  },
  {
   "cell_type": "code",
   "execution_count": 5,
   "metadata": {},
   "outputs": [],
   "source": [
    "manager = WebsocketManager(\n",
    "    market_url=MARKET_WSS_ENDPOINT,\n",
    "    user_url=USER_WSS_ENDPOINT,\n",
    "    api_key=API_KEY,\n",
    "    api_secret=API_SECRET,\n",
    "    api_passphrase=API_PASSPHRASE,\n",
    "    condition_id=CONDITION_ID,\n",
    "    yes_id=YES_ID,\n",
    "    no_id=NO_ID\n",
    ")\n",
    "\n",
    "manager.add_market_handler(create_market_handler(book))\n",
    "manager.add_user_handler(example_user_handler)"
   ]
  },
  {
   "cell_type": "code",
   "execution_count": 6,
   "metadata": {},
   "outputs": [
    {
     "name": "stdout",
     "output_type": "stream",
     "text": [
      "Sent market subscription: {'assets_ids': ['46171502957028595838694604499378583099478369877679255114043087599679007467964', '21457067342029925682172110629429793886827168158271370485467219837949936707498'], 'type': 'market'}\n",
      "Sent user subscription: {'auth': {'apiKey': '689c3290-d89e-a3ba-4548-c21125c1efab', 'secret': 'HLmOg9rCRe046UMqgHmTPHfGyz9GVSoFRDw9w4E1Y0U=', 'passphrase': 'e28daa72920b234eeb1f9b6bf19cb62318f96dea2545bd2ec56f4985d788d853'}, 'markets': ['0x07ab34a38692464baf22c7e859550712bb2093fe005b24c58a0717f6e9595e55'], 'type': 'user'}\n"
     ]
    },
    {
     "ename": "CancelledError",
     "evalue": "",
     "output_type": "error",
     "traceback": [
      "\u001b[1;31m---------------------------------------------------------------------------\u001b[0m",
      "\u001b[1;31mCancelledError\u001b[0m                            Traceback (most recent call last)",
      "File \u001b[1;32md:\\polymarket-trading\\src\\market_making\\websockets_manager.py:93\u001b[0m, in \u001b[0;36mWebsocketManager._connect_market\u001b[1;34m(self)\u001b[0m\n\u001b[0;32m     91\u001b[0m         \u001b[38;5;28mprint\u001b[39m(\u001b[38;5;124mf\u001b[39m\u001b[38;5;124m\"\u001b[39m\u001b[38;5;124mSent market subscription: \u001b[39m\u001b[38;5;132;01m{\u001b[39;00msubscribe_msg\u001b[38;5;132;01m}\u001b[39;00m\u001b[38;5;124m\"\u001b[39m)\n\u001b[1;32m---> 93\u001b[0m         \u001b[38;5;28;01mawait\u001b[39;00m \u001b[38;5;28mself\u001b[39m\u001b[38;5;241m.\u001b[39m_handle_market_messages()\n\u001b[0;32m     94\u001b[0m \u001b[38;5;28;01mexcept\u001b[39;00m \u001b[38;5;167;01mException\u001b[39;00m \u001b[38;5;28;01mas\u001b[39;00m e:\n",
      "File \u001b[1;32md:\\polymarket-trading\\src\\market_making\\websockets_manager.py:121\u001b[0m, in \u001b[0;36mWebsocketManager._handle_market_messages\u001b[1;34m(self)\u001b[0m\n\u001b[0;32m    120\u001b[0m \u001b[38;5;28;01mtry\u001b[39;00m:\n\u001b[1;32m--> 121\u001b[0m     message \u001b[38;5;241m=\u001b[39m \u001b[38;5;28;01mawait\u001b[39;00m \u001b[38;5;28mself\u001b[39m\u001b[38;5;241m.\u001b[39mmarket_ws\u001b[38;5;241m.\u001b[39mrecv()\n\u001b[0;32m    122\u001b[0m     data \u001b[38;5;241m=\u001b[39m json\u001b[38;5;241m.\u001b[39mloads(message) \u001b[38;5;66;03m# May have some delay\u001b[39;00m\n",
      "File \u001b[1;32md:\\miniconda3\\envs\\polymarket\\lib\\site-packages\\websockets\\legacy\\protocol.py:546\u001b[0m, in \u001b[0;36mWebSocketCommonProtocol.recv\u001b[1;34m(self)\u001b[0m\n\u001b[0;32m    543\u001b[0m \u001b[38;5;28;01mtry\u001b[39;00m:\n\u001b[0;32m    544\u001b[0m     \u001b[38;5;66;03m# If asyncio.wait() is canceled, it doesn't cancel\u001b[39;00m\n\u001b[0;32m    545\u001b[0m     \u001b[38;5;66;03m# pop_message_waiter and self.transfer_data_task.\u001b[39;00m\n\u001b[1;32m--> 546\u001b[0m     \u001b[38;5;28;01mawait\u001b[39;00m asyncio\u001b[38;5;241m.\u001b[39mwait(\n\u001b[0;32m    547\u001b[0m         [pop_message_waiter, \u001b[38;5;28mself\u001b[39m\u001b[38;5;241m.\u001b[39mtransfer_data_task],\n\u001b[0;32m    548\u001b[0m         return_when\u001b[38;5;241m=\u001b[39masyncio\u001b[38;5;241m.\u001b[39mFIRST_COMPLETED,\n\u001b[0;32m    549\u001b[0m     )\n\u001b[0;32m    550\u001b[0m \u001b[38;5;28;01mfinally\u001b[39;00m:\n",
      "File \u001b[1;32md:\\miniconda3\\envs\\polymarket\\lib\\asyncio\\tasks.py:413\u001b[0m, in \u001b[0;36mwait\u001b[1;34m(fs, loop, timeout, return_when)\u001b[0m\n\u001b[0;32m    411\u001b[0m fs \u001b[38;5;241m=\u001b[39m {ensure_future(f, loop\u001b[38;5;241m=\u001b[39mloop) \u001b[38;5;28;01mfor\u001b[39;00m f \u001b[38;5;129;01min\u001b[39;00m fs}\n\u001b[1;32m--> 413\u001b[0m \u001b[38;5;28;01mreturn\u001b[39;00m \u001b[38;5;28;01mawait\u001b[39;00m _wait(fs, timeout, return_when, loop)\n",
      "File \u001b[1;32md:\\miniconda3\\envs\\polymarket\\lib\\asyncio\\tasks.py:525\u001b[0m, in \u001b[0;36m_wait\u001b[1;34m(fs, timeout, return_when, loop)\u001b[0m\n\u001b[0;32m    524\u001b[0m \u001b[38;5;28;01mtry\u001b[39;00m:\n\u001b[1;32m--> 525\u001b[0m     \u001b[38;5;28;01mawait\u001b[39;00m waiter\n\u001b[0;32m    526\u001b[0m \u001b[38;5;28;01mfinally\u001b[39;00m:\n",
      "\u001b[1;31mCancelledError\u001b[0m: ",
      "\nDuring handling of the above exception, another exception occurred:\n",
      "\u001b[1;31mCancelledError\u001b[0m                            Traceback (most recent call last)",
      "Cell \u001b[1;32mIn[6], line 2\u001b[0m\n\u001b[0;32m      1\u001b[0m \u001b[38;5;28;01mtry\u001b[39;00m:\n\u001b[1;32m----> 2\u001b[0m     \u001b[38;5;28;01mawait\u001b[39;00m manager\u001b[38;5;241m.\u001b[39mstart()\n\u001b[0;32m      3\u001b[0m \u001b[38;5;28;01mexcept\u001b[39;00m \u001b[38;5;167;01mKeyboardInterrupt\u001b[39;00m:\n\u001b[0;32m      4\u001b[0m     \u001b[38;5;66;03m# logger.info(\"Shutting down...\")\u001b[39;00m\n\u001b[0;32m      5\u001b[0m     \u001b[38;5;28;01mawait\u001b[39;00m manager\u001b[38;5;241m.\u001b[39mstop()\n",
      "File \u001b[1;32md:\\polymarket-trading\\src\\market_making\\websockets_manager.py:66\u001b[0m, in \u001b[0;36mWebsocketManager.start\u001b[1;34m(self)\u001b[0m\n\u001b[0;32m     64\u001b[0m \u001b[38;5;250m\u001b[39m\u001b[38;5;124;03m\"\"\"Starts both WebSocket connections concurrently\"\"\"\u001b[39;00m\n\u001b[0;32m     65\u001b[0m \u001b[38;5;28mself\u001b[39m\u001b[38;5;241m.\u001b[39mrunning \u001b[38;5;241m=\u001b[39m \u001b[38;5;28;01mTrue\u001b[39;00m\n\u001b[1;32m---> 66\u001b[0m \u001b[38;5;28;01mawait\u001b[39;00m asyncio\u001b[38;5;241m.\u001b[39mgather(\n\u001b[0;32m     67\u001b[0m     \u001b[38;5;28mself\u001b[39m\u001b[38;5;241m.\u001b[39m_connect_market(),\n\u001b[0;32m     68\u001b[0m     \u001b[38;5;28mself\u001b[39m\u001b[38;5;241m.\u001b[39m_connect_user()\n\u001b[0;32m     69\u001b[0m )\n",
      "\u001b[1;31mCancelledError\u001b[0m: "
     ]
    }
   ],
   "source": [
    "try:\n",
    "    await manager.start()\n",
    "except KeyboardInterrupt:\n",
    "    # logger.info(\"Shutting down...\")\n",
    "    await manager.stop()"
   ]
  },
  {
   "cell_type": "code",
   "execution_count": null,
   "metadata": {},
   "outputs": [],
   "source": []
  },
  {
   "cell_type": "code",
   "execution_count": null,
   "metadata": {},
   "outputs": [],
   "source": []
  },
  {
   "cell_type": "code",
   "execution_count": null,
   "metadata": {},
   "outputs": [],
   "source": []
  }
 ],
 "metadata": {
  "kernelspec": {
   "display_name": "polymarket",
   "language": "python",
   "name": "python3"
  },
  "language_info": {
   "codemirror_mode": {
    "name": "ipython",
    "version": 3
   },
   "file_extension": ".py",
   "mimetype": "text/x-python",
   "name": "python",
   "nbconvert_exporter": "python",
   "pygments_lexer": "ipython3",
   "version": "3.9.21"
  }
 },
 "nbformat": 4,
 "nbformat_minor": 2
}
